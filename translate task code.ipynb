{
 "cells": [
  {
   "cell_type": "code",
   "execution_count": 11,
   "metadata": {},
   "outputs": [
    {
     "name": "stdout",
     "output_type": "stream",
     "text": [
      "Requirement already satisfied: humanfriendly in c:\\users\\admin\\appdata\\local\\programs\\python\\python39\\lib\\site-packages (9.2)\n",
      "Requirement already satisfied: pyreadline; sys_platform == \"win32\" in c:\\users\\admin\\appdata\\local\\programs\\python\\python39\\lib\\site-packages (from humanfriendly) (2.1)\n"
     ]
    },
    {
     "name": "stderr",
     "output_type": "stream",
     "text": [
      "WARNING: You are using pip version 20.2.3; however, version 21.1.3 is available.\n",
      "You should consider upgrading via the 'c:\\users\\admin\\appdata\\local\\programs\\python\\python39\\python.exe -m pip install --upgrade pip' command.\n"
     ]
    }
   ],
   "source": [
    "!pip install humanfriendly"
   ]
  },
  {
   "cell_type": "code",
   "execution_count": 12,
   "metadata": {},
   "outputs": [],
   "source": [
    "from humanfriendly import format_timespan\n",
    "import time\n",
    "\n",
    "start= time.time()\n",
    "english=[]\n",
    "french=[]\n",
    "import csv\n",
    "with open(\"C:\\\\Users\\\\Admin\\\\Downloads\\\\TranslateWords Challenge\\\\french_dictionary.csv\") as fd:\n",
    "    reader = csv.reader(fd, delimiter=\",\")\n",
    "    for j in reader:\n",
    "        english.append(j[0])\n",
    "        french.append(j[1])"
   ]
  },
  {
   "cell_type": "code",
   "execution_count": 13,
   "metadata": {},
   "outputs": [],
   "source": [
    "count=[0]*1000\n",
    "output=open(\"C:\\\\Users\\\\Admin\\\\Downloads\\\\TranslateWords Challenge\\\\t8.shakespeare.translated.txt\",\"w+\")\n",
    "with open(\"C:\\\\Users\\\\Admin\\\\Downloads\\\\TranslateWords Challenge\\\\t8.shakespeare.txt\") as text:\n",
    "    for line in text:\n",
    "        for word in line.split(' '):\n",
    "            if(word!='\\n' and word in english):\n",
    "                ind=english.index(word)\n",
    "                output.write(french[ind]+\" \")\n",
    "                count[ind]+=1\n",
    "            else:\n",
    "                output.write(word+\" \")\n",
    "output.close()"
   ]
  },
  {
   "cell_type": "code",
   "execution_count": 14,
   "metadata": {},
   "outputs": [],
   "source": [
    "csvwriter=open(\"C:\\\\Users\\\\Admin\\\\Downloads\\\\TranslateWords Challenge\\\\frequency.csv\",\"w\")\n",
    "frequency=csv.writer(csvwriter)\n",
    "frequency.writerow(['English word','French word','Frequency'])\n",
    "for i in range(1000):\n",
    "    if(count[i]!=0):\n",
    "        frequency.writerow([english[i],french[i],count[i]])\n",
    "csvwriter.close()\n",
    "end=time.time()"
   ]
  },
  {
   "cell_type": "code",
   "execution_count": 15,
   "metadata": {},
   "outputs": [],
   "source": [
    "\n",
    "import os, psutil; \n",
    "str1=\"Time to process: \"+format_timespan(end-start)\n",
    "str2=\"Memory used: \"+str(psutil.Process(os.getpid()).memory_info().rss / 1024 ** 2)+\" MB\"\n",
    "\n",
    "with open(\"C:\\\\Users\\\\Admin\\\\Downloads\\\\TranslateWords Challenge\\\\performance.txt\",\"w\") as p:\n",
    "    p.write(str1+\"\\n\"+str2)"
   ]
  },
  {
   "cell_type": "code",
   "execution_count": null,
   "metadata": {},
   "outputs": [],
   "source": []
  },
  {
   "cell_type": "code",
   "execution_count": null,
   "metadata": {},
   "outputs": [],
   "source": []
  },
  {
   "cell_type": "code",
   "execution_count": null,
   "metadata": {},
   "outputs": [],
   "source": []
  },
  {
   "cell_type": "code",
   "execution_count": null,
   "metadata": {},
   "outputs": [],
   "source": []
  },
  {
   "cell_type": "code",
   "execution_count": null,
   "metadata": {},
   "outputs": [],
   "source": []
  }
 ],
 "metadata": {
  "kernelspec": {
   "display_name": "Python 3 (ipykernel)",
   "language": "python",
   "name": "python3"
  },
  "language_info": {
   "codemirror_mode": {
    "name": "ipython",
    "version": 3
   },
   "file_extension": ".py",
   "mimetype": "text/x-python",
   "name": "python",
   "nbconvert_exporter": "python",
   "pygments_lexer": "ipython3",
   "version": "3.9.1"
  }
 },
 "nbformat": 4,
 "nbformat_minor": 2
}
